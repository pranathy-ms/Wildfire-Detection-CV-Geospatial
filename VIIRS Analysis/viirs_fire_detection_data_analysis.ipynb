{
 "cells": [
  {
   "cell_type": "code",
   "execution_count": null,
   "metadata": {},
   "outputs": [
    {
     "name": "stdout",
     "output_type": "stream",
     "text": [
      "Data contains dates: [datetime.date(2025, 1, 12)]\n",
      "Visualizations saved: wildfire_timeseries.html and daily_detections.png\n",
      "\n",
      "Summary Statistics:\n",
      "Total fires: 384\n",
      "Average FRP: 3.1 MW\n",
      "Peak detection date: 2025-01-12\n"
     ]
    }
   ],
   "source": [
    "import geojson\n",
    "import folium\n",
    "import pandas as pd\n",
    "from datetime import datetime\n",
    "import matplotlib.pyplot as plt\n",
    "\n",
    "# Custom date range - SET THESE VALUES\n",
    "CUSTOM_START_DATE = \"2025-01-07\"\n",
    "CUSTOM_END_DATE = \"2025-01-12\"\n",
    "\n",
    "# Load and process data\n",
    "with open('custom_date_fires.geojson') as f:\n",
    "    data = geojson.load(f)\n",
    "\n",
    "# Convert to DataFrame with error handling\n",
    "try:\n",
    "    features = data['features']\n",
    "    df = pd.DataFrame([feature['properties'] for feature in features])\n",
    "    df['geometry'] = [feature['geometry'] for feature in features]\n",
    "except KeyError as e:\n",
    "    raise ValueError(\"Invalid GeoJSON structure - missing 'features' key\") from e\n",
    "\n",
    "# Convert and filter dates\n",
    "df['acq_date'] = pd.to_datetime(df['acq_date'])\n",
    "start_date = pd.to_datetime(CUSTOM_START_DATE)\n",
    "end_date = pd.to_datetime(CUSTOM_END_DATE)\n",
    "\n",
    "# Filter by custom date range\n",
    "date_mask = (df['acq_date'] >= start_date) & (df['acq_date'] <= end_date)\n",
    "df_filtered = df[date_mask].copy()\n",
    "\n",
    "# Clean data - remove rows with invalid locations\n",
    "df_filtered = df_filtered.dropna(subset=['latitude', 'longitude'])\n",
    "\n",
    "# Only create map if we have valid data\n",
    "if not df_filtered.empty:\n",
    "    # Calculate map center\n",
    "    map_center = [\n",
    "        df_filtered['latitude'].mean(),\n",
    "        df_filtered['longitude'].mean()\n",
    "    ]\n",
    "    \n",
    "    # Create map with error bounds\n",
    "    m = folium.Map(\n",
    "        location=map_center,\n",
    "        zoom_start=4,\n",
    "        tiles='CartoDB dark_matter'\n",
    "    )\n",
    "\n",
    "    # Add markers with validation\n",
    "    for _, row in df_filtered.iterrows():\n",
    "        if pd.notnull(row['latitude']) and pd.notnull(row['longitude']):\n",
    "            folium.CircleMarker(\n",
    "                location=[row['latitude'], row['longitude']],\n",
    "                radius=row['frp']/10,\n",
    "                popup=f\"\"\"\n",
    "                Date: {row['acq_date'].date()}<br>\n",
    "                FRP: {row['frp']} MW<br>\n",
    "                Confidence: {row['confidence']}\n",
    "                \"\"\",\n",
    "                color='#ff4500',\n",
    "                fill=True,\n",
    "                fill_opacity=0.7\n",
    "            ).add_to(m)\n",
    "    \n",
    "    # Save map\n",
    "    m.save('wildfire_map.html')\n",
    "else:\n",
    "    print(\"No fire data found in specified date range\")\n",
    "    exit()\n",
    "\n",
    "# Generate statistics\n",
    "print(f\"\\nFire Detection Summary ({CUSTOM_START_DATE} to {CUSTOM_END_DATE})\")\n",
    "print(\"==============================================\")\n",
    "print(f\"Total fires detected: {len(df_filtered)}\")\n",
    "print(f\"Average FRP: {df_filtered['frp'].mean():.2f} MW\")\n",
    "print(f\"High confidence fires: {len(df_filtered[df_filtered['confidence'] == 'h'])}\")\n",
    "\n",
    "# Time series analysis\n",
    "daily_counts = df_filtered.resample('D', on='acq_date').size()\n",
    "\n",
    "plt.figure(figsize=(12, 6))\n",
    "daily_counts.plot(kind='bar', color='orange')\n",
    "plt.title(f'Wildfire Detections: {CUSTOM_START_DATE} to {CUSTOM_END_DATE}')\n",
    "plt.xlabel('Detection Date')\n",
    "plt.ylabel('Number of Fires')\n",
    "plt.xticks(rotation=45)\n",
    "plt.grid(axis='y', alpha=0.3)\n",
    "plt.tight_layout()\n",
    "plt.savefig('daily_fires.png', dpi=300)\n"
   ]
  },
  {
   "cell_type": "code",
   "execution_count": 8,
   "metadata": {},
   "outputs": [
    {
     "name": "stdout",
     "output_type": "stream",
     "text": [
      "/Users/pranathy/Documents/Illinois Tech/Semester 4/Wildfire Detection/Wildfire-Detection-CV-Geospatial/VIIRS Analysis\n"
     ]
    }
   ],
   "source": [
    "import os\n",
    "\n",
    "# Get the current working directory\n",
    "current_dir = os.getcwd()\n",
    "print(current_dir)"
   ]
  }
 ],
 "metadata": {
  "kernelspec": {
   "display_name": "Python 3",
   "language": "python",
   "name": "python3"
  },
  "language_info": {
   "codemirror_mode": {
    "name": "ipython",
    "version": 3
   },
   "file_extension": ".py",
   "mimetype": "text/x-python",
   "name": "python",
   "nbconvert_exporter": "python",
   "pygments_lexer": "ipython3",
   "version": "3.11.5"
  }
 },
 "nbformat": 4,
 "nbformat_minor": 2
}
